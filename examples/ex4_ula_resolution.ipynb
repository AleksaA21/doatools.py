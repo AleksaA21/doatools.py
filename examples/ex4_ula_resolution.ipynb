{
 "cells": [
  {
   "cell_type": "markdown",
   "metadata": {},
   "source": [
    "# Compare the resolution limits of root-MUSIC and MVDR beamformer for a ULA"
   ]
  },
  {
   "cell_type": "code",
   "execution_count": 1,
   "metadata": {},
   "outputs": [],
   "source": [
    "import numpy as np\n",
    "import doatools.model as model\n",
    "import doatools.estimation as estimation\n",
    "import matplotlib.pyplot as plt\n",
    "%matplotlib inline"
   ]
  },
  {
   "cell_type": "code",
   "execution_count": 2,
   "metadata": {},
   "outputs": [],
   "source": [
    "wavelength = 1.0 # normalized\n",
    "d0 = wavelength / 2\n",
    "\n",
    "# Create a 10-element ULA.\n",
    "ula = model.UniformLinearArray(10, d0)\n",
    "\n",
    "# All sources share the same power.\n",
    "# SNR = 0 dB\n",
    "power_source = 1.0 # Normalized\n",
    "power_noise = 1.0\n",
    "source_signal = model.ComplexStochasticSignal(power_source, 2)\n",
    "noise_signal = model.ComplexStochasticSignal(power_noise, ula.size)\n",
    "# 100 snapshots.\n",
    "n_snapshots = 100\n",
    "# Use root-MUSIC and MVDR beamformer\n",
    "root_music = estimation.RootMUSIC1D(wavelength)\n",
    "grid = estimation.FarField1DSearchGrid(start=-30.0, stop=30.0,\n",
    "                                       size=1000, unit='deg')\n",
    "mvdr = estimation.MVDRBeamformer(ula, wavelength, grid)"
   ]
  },
  {
   "cell_type": "markdown",
   "metadata": {},
   "source": [
    "We consider two sources placed at $-\\Delta\\theta/2$ and $\\Delta\\theta/2$. We reduce $\\Delta\\theta$ from $10^\\circ$ to $0.05^\\circ$ and use Monte Carlo simulations to obtain the empirical resolution probabilities.\n",
    "\n",
    "Given the estimates, $\\hat{\\theta}_1$, $\\hat{\\theta}_2$ ($\\hat{\\theta}_1 < \\hat{\\theta}_2$), we say the two sources are successfully resolved if $\\hat{\\theta}_1 \\in (-\\Delta\\theta, 0)$ and $\\hat{\\theta}_2 \\in (0, \\Delta\\theta)$. This condition is pretty strict. It requires that the estimated DOAs are reasonably close to the correct ones. On the other hand, in our implementation of DOA estimators, the resolved flag is set to `True` whenever the estimator can identify the correct number of sources even if the estimated locations are completely wrong."
   ]
  },
  {
   "cell_type": "code",
   "execution_count": 3,
   "metadata": {},
   "outputs": [],
   "source": [
    "def is_strictly_resolved(estimates, delta_theta):\n",
    "    """Helper function to check the resolution."""\n",
    "    if estimates.locations[0] >= 0 or estimates.locations[0] <= -delta_theta:\n",
    "        return False\n",
    "    if estimates.locations[1] <= 0 or estimates.locations[1] >= delta_theta:\n",
    "        return False\n",
    "    return True\n",
    "\n",
    "delta_thetas = np.linspace(0.05, 10.0, 20)\n",
    "# Repeat 500 times for each pair of sources.\n",
    "n_repeats = 500\n",
    "res_probs = np.zeros((delta_thetas.size, 2))\n",
    "for i, delta_theta in enumerate(delta_thetas):\n",
    "    n_resolved = np.array([0.0, 0.0])\n",
    "    for r in range(n_repeats):\n",
    "        sources = model.FarField1DSourcePlacement(\n",
    "            [-delta_theta / 2, delta_theta / 2],\n",
    "            unit='deg'\n",
    "        )\n",
    "        y, R = model.get_narrowband_snapshots(\n",
    "            ula, sources, wavelength, source_signal, noise_signal, n_snapshots,\n",
    "            return_covariance=True\n",
    "        )\n",
    "        res_mu, est_mu = root_music.estimate(R, 2, d0, unit='deg')\n",
    "        res_mvdr, est_mvdr = mvdr.estimate(R, 2)\n",
    "        if res_mu and is_strictly_resolved(est_mu, delta_theta):\n",
    "            n_resolved[0] += 1\n",
    "        if res_mvdr and is_strictly_resolved(est_mvdr, delta_theta):\n",
    "            n_resolved[1] += 1\n",
    "    res_probs[i, :] = n_resolved / n_repeats"
   ]
  },
  {
   "cell_type": "markdown",
   "metadata": {},
   "source": [
    "We plot the results below. We observe that the root-MUSIC algorithm provides much better resolution than the MVDR beamformer."
   ]
  },
  {
   "cell_type": "code",
   "execution_count": 4,
   "metadata": {},
   "outputs": [
    {
     "data": {
      "image/png": "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\n",
      "text/plain": [
       "<Figure size 432x288 with 1 Axes>"
      ]
     },
     "metadata": {
      "needs_background": "light"
     },
     "output_type": "display_data"
    }
   ],
   "source": [
    "plt.figure()\n",
    "plt.plot(delta_thetas, res_probs[:, 0], label='root-MUSIC')\n",
    "plt.plot(delta_thetas, res_probs[:, 1], label='MVDR')\n",
    "plt.grid(True)\n",
    "plt.xlabel('Source separation / deg')\n",
    "plt.ylabel('Resolution probability')\n",
    "plt.margins(x=0)\n",
    "plt.legend()\n",
    "plt.show()"
   ]
  }
 ],
 "metadata": {
  "kernelspec": {
   "display_name": "Python 3",
   "language": "python",
   "name": "python3"
  },
  "language_info": {
   "codemirror_mode": {
    "name": "ipython",
    "version": 3
   },
   "file_extension": ".py",
   "mimetype": "text/x-python",
   "name": "python",
   "nbconvert_exporter": "python",
   "pygments_lexer": "ipython3",
   "version": "3.6.6"
  }
 },
 "nbformat": 4,
 "nbformat_minor": 2
}
